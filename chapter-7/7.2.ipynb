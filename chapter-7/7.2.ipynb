{
 "cells": [
  {
   "cell_type": "code",
   "execution_count": null,
   "source": [
    "from pyspark.sql import SparkSession\n",
    "\n",
    "spark = SparkSession.builder.appName(\"StreamingNote\").getOrCreate()\n",
    "logsDirectory=\"path\" #Input Directory Path. Not json File\n",
    "rawLogs = spark.read.json(logsDirectory)"
   ],
   "outputs": [],
   "metadata": {}
  },
  {
   "cell_type": "code",
   "execution_count": null,
   "source": [
    "from pyspark.sql.types import *\n",
    "from pyspark.sql.functions import *\n",
    "\n",
    "preparedLogs = rawLogs.withColumn(\"timestamp\", to_timestamp(\"timestamp\"))\n",
    "weblogs = rawLogs.withColumn(\"http_reply\", rawLogs[\"http_reply\"].cast(IntegerType()))"
   ],
   "outputs": [],
   "metadata": {}
  },
  {
   "cell_type": "code",
   "execution_count": null,
   "source": [
    "weblogs.count()"
   ],
   "outputs": [],
   "metadata": {}
  },
  {
   "cell_type": "code",
   "execution_count": null,
   "source": [
    "topDailyURLS=weblogs.withColumn('dayOfMonth', dayofmonth('timestamp')) \\\n",
    "                    .select('request', 'dayOfMonth') \\\n",
    "                    .groupBy('dayOfMonth', 'request') \\\n",
    "                    .agg(count('request').alias(\"count\")) \\\n",
    "                    .orderBy(desc('count'))\n",
    "topDailyURLS.show()"
   ],
   "outputs": [],
   "metadata": {}
  }
 ],
 "metadata": {
  "orig_nbformat": 4,
  "language_info": {
   "name": "python",
   "version": "3.9.0",
   "mimetype": "text/x-python",
   "codemirror_mode": {
    "name": "ipython",
    "version": 3
   },
   "pygments_lexer": "ipython3",
   "nbconvert_exporter": "python",
   "file_extension": ".py"
  },
  "kernelspec": {
   "name": "python3",
   "display_name": "Python 3.9.0 64-bit"
  },
  "interpreter": {
   "hash": "aee8b7b246df8f9039afb4144a1f6fd8d2ca17a180786b69acc140d282b71a49"
  }
 },
 "nbformat": 4,
 "nbformat_minor": 2
}